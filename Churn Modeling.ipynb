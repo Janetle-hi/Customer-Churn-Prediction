{
 "cells": [
  {
   "cell_type": "code",
   "execution_count": 1,
   "metadata": {},
   "outputs": [],
   "source": [
    "import numpy as np\n",
    "import pandas as pd\n",
    "%matplotlib inline\n",
    "import seaborn as sns\n",
    "import matplotlib.pyplot as plt\n",
    "from sklearn.metrics import classification_report, confusion_matrix, accuracy_score"
   ]
  },
  {
   "cell_type": "code",
   "execution_count": 2,
   "metadata": {},
   "outputs": [],
   "source": [
    "df = pd.read_csv(\"WA_Fn-UseC_-Telco-Customer-Churn.csv\")"
   ]
  },
  {
   "cell_type": "code",
   "execution_count": 3,
   "metadata": {},
   "outputs": [
    {
     "data": {
      "text/html": [
       "<div>\n",
       "<style scoped>\n",
       "    .dataframe tbody tr th:only-of-type {\n",
       "        vertical-align: middle;\n",
       "    }\n",
       "\n",
       "    .dataframe tbody tr th {\n",
       "        vertical-align: top;\n",
       "    }\n",
       "\n",
       "    .dataframe thead th {\n",
       "        text-align: right;\n",
       "    }\n",
       "</style>\n",
       "<table border=\"1\" class=\"dataframe\">\n",
       "  <thead>\n",
       "    <tr style=\"text-align: right;\">\n",
       "      <th></th>\n",
       "      <th>customerID</th>\n",
       "      <th>gender</th>\n",
       "      <th>SeniorCitizen</th>\n",
       "      <th>Partner</th>\n",
       "      <th>Dependents</th>\n",
       "      <th>tenure</th>\n",
       "      <th>PhoneService</th>\n",
       "      <th>MultipleLines</th>\n",
       "      <th>InternetService</th>\n",
       "      <th>OnlineSecurity</th>\n",
       "      <th>OnlineBackup</th>\n",
       "      <th>DeviceProtection</th>\n",
       "      <th>TechSupport</th>\n",
       "      <th>StreamingTV</th>\n",
       "      <th>StreamingMovies</th>\n",
       "      <th>Contract</th>\n",
       "      <th>PaperlessBilling</th>\n",
       "      <th>PaymentMethod</th>\n",
       "      <th>MonthlyCharges</th>\n",
       "      <th>TotalCharges</th>\n",
       "      <th>Churn</th>\n",
       "    </tr>\n",
       "  </thead>\n",
       "  <tbody>\n",
       "    <tr>\n",
       "      <th>0</th>\n",
       "      <td>7590-VHVEG</td>\n",
       "      <td>Female</td>\n",
       "      <td>0</td>\n",
       "      <td>Yes</td>\n",
       "      <td>No</td>\n",
       "      <td>1</td>\n",
       "      <td>No</td>\n",
       "      <td>No phone service</td>\n",
       "      <td>DSL</td>\n",
       "      <td>No</td>\n",
       "      <td>Yes</td>\n",
       "      <td>No</td>\n",
       "      <td>No</td>\n",
       "      <td>No</td>\n",
       "      <td>No</td>\n",
       "      <td>Month-to-month</td>\n",
       "      <td>Yes</td>\n",
       "      <td>Electronic check</td>\n",
       "      <td>29.85</td>\n",
       "      <td>29.85</td>\n",
       "      <td>No</td>\n",
       "    </tr>\n",
       "    <tr>\n",
       "      <th>1</th>\n",
       "      <td>5575-GNVDE</td>\n",
       "      <td>Male</td>\n",
       "      <td>0</td>\n",
       "      <td>No</td>\n",
       "      <td>No</td>\n",
       "      <td>34</td>\n",
       "      <td>Yes</td>\n",
       "      <td>No</td>\n",
       "      <td>DSL</td>\n",
       "      <td>Yes</td>\n",
       "      <td>No</td>\n",
       "      <td>Yes</td>\n",
       "      <td>No</td>\n",
       "      <td>No</td>\n",
       "      <td>No</td>\n",
       "      <td>One year</td>\n",
       "      <td>No</td>\n",
       "      <td>Mailed check</td>\n",
       "      <td>56.95</td>\n",
       "      <td>1889.5</td>\n",
       "      <td>No</td>\n",
       "    </tr>\n",
       "    <tr>\n",
       "      <th>2</th>\n",
       "      <td>3668-QPYBK</td>\n",
       "      <td>Male</td>\n",
       "      <td>0</td>\n",
       "      <td>No</td>\n",
       "      <td>No</td>\n",
       "      <td>2</td>\n",
       "      <td>Yes</td>\n",
       "      <td>No</td>\n",
       "      <td>DSL</td>\n",
       "      <td>Yes</td>\n",
       "      <td>Yes</td>\n",
       "      <td>No</td>\n",
       "      <td>No</td>\n",
       "      <td>No</td>\n",
       "      <td>No</td>\n",
       "      <td>Month-to-month</td>\n",
       "      <td>Yes</td>\n",
       "      <td>Mailed check</td>\n",
       "      <td>53.85</td>\n",
       "      <td>108.15</td>\n",
       "      <td>Yes</td>\n",
       "    </tr>\n",
       "    <tr>\n",
       "      <th>3</th>\n",
       "      <td>7795-CFOCW</td>\n",
       "      <td>Male</td>\n",
       "      <td>0</td>\n",
       "      <td>No</td>\n",
       "      <td>No</td>\n",
       "      <td>45</td>\n",
       "      <td>No</td>\n",
       "      <td>No phone service</td>\n",
       "      <td>DSL</td>\n",
       "      <td>Yes</td>\n",
       "      <td>No</td>\n",
       "      <td>Yes</td>\n",
       "      <td>Yes</td>\n",
       "      <td>No</td>\n",
       "      <td>No</td>\n",
       "      <td>One year</td>\n",
       "      <td>No</td>\n",
       "      <td>Bank transfer (automatic)</td>\n",
       "      <td>42.30</td>\n",
       "      <td>1840.75</td>\n",
       "      <td>No</td>\n",
       "    </tr>\n",
       "    <tr>\n",
       "      <th>4</th>\n",
       "      <td>9237-HQITU</td>\n",
       "      <td>Female</td>\n",
       "      <td>0</td>\n",
       "      <td>No</td>\n",
       "      <td>No</td>\n",
       "      <td>2</td>\n",
       "      <td>Yes</td>\n",
       "      <td>No</td>\n",
       "      <td>Fiber optic</td>\n",
       "      <td>No</td>\n",
       "      <td>No</td>\n",
       "      <td>No</td>\n",
       "      <td>No</td>\n",
       "      <td>No</td>\n",
       "      <td>No</td>\n",
       "      <td>Month-to-month</td>\n",
       "      <td>Yes</td>\n",
       "      <td>Electronic check</td>\n",
       "      <td>70.70</td>\n",
       "      <td>151.65</td>\n",
       "      <td>Yes</td>\n",
       "    </tr>\n",
       "  </tbody>\n",
       "</table>\n",
       "</div>"
      ],
      "text/plain": [
       "   customerID  gender  SeniorCitizen Partner Dependents  tenure PhoneService     MultipleLines InternetService OnlineSecurity OnlineBackup DeviceProtection TechSupport StreamingTV StreamingMovies        Contract PaperlessBilling              PaymentMethod  MonthlyCharges TotalCharges Churn\n",
       "0  7590-VHVEG  Female              0     Yes         No       1           No  No phone service             DSL             No          Yes               No          No          No              No  Month-to-month              Yes           Electronic check           29.85        29.85    No\n",
       "1  5575-GNVDE    Male              0      No         No      34          Yes                No             DSL            Yes           No              Yes          No          No              No        One year               No               Mailed check           56.95       1889.5    No\n",
       "2  3668-QPYBK    Male              0      No         No       2          Yes                No             DSL            Yes          Yes               No          No          No              No  Month-to-month              Yes               Mailed check           53.85       108.15   Yes\n",
       "3  7795-CFOCW    Male              0      No         No      45           No  No phone service             DSL            Yes           No              Yes         Yes          No              No        One year               No  Bank transfer (automatic)           42.30      1840.75    No\n",
       "4  9237-HQITU  Female              0      No         No       2          Yes                No     Fiber optic             No           No               No          No          No              No  Month-to-month              Yes           Electronic check           70.70       151.65   Yes"
      ]
     },
     "execution_count": 3,
     "metadata": {},
     "output_type": "execute_result"
    }
   ],
   "source": [
    "pd.set_option('display.max_rows', 500)\n",
    "pd.set_option('display.max_columns', 500)\n",
    "pd.set_option('display.width', 1000)\n",
    "df.head()"
   ]
  },
  {
   "cell_type": "code",
   "execution_count": 4,
   "metadata": {},
   "outputs": [
    {
     "name": "stdout",
     "output_type": "stream",
     "text": [
      "<class 'pandas.core.frame.DataFrame'>\n",
      "RangeIndex: 7043 entries, 0 to 7042\n",
      "Data columns (total 21 columns):\n",
      " #   Column            Non-Null Count  Dtype  \n",
      "---  ------            --------------  -----  \n",
      " 0   customerID        7043 non-null   object \n",
      " 1   gender            7043 non-null   object \n",
      " 2   SeniorCitizen     7043 non-null   int64  \n",
      " 3   Partner           7043 non-null   object \n",
      " 4   Dependents        7043 non-null   object \n",
      " 5   tenure            7043 non-null   int64  \n",
      " 6   PhoneService      7043 non-null   object \n",
      " 7   MultipleLines     7043 non-null   object \n",
      " 8   InternetService   7043 non-null   object \n",
      " 9   OnlineSecurity    7043 non-null   object \n",
      " 10  OnlineBackup      7043 non-null   object \n",
      " 11  DeviceProtection  7043 non-null   object \n",
      " 12  TechSupport       7043 non-null   object \n",
      " 13  StreamingTV       7043 non-null   object \n",
      " 14  StreamingMovies   7043 non-null   object \n",
      " 15  Contract          7043 non-null   object \n",
      " 16  PaperlessBilling  7043 non-null   object \n",
      " 17  PaymentMethod     7043 non-null   object \n",
      " 18  MonthlyCharges    7043 non-null   float64\n",
      " 19  TotalCharges      7043 non-null   object \n",
      " 20  Churn             7043 non-null   object \n",
      "dtypes: float64(1), int64(2), object(18)\n",
      "memory usage: 1.1+ MB\n"
     ]
    },
    {
     "data": {
      "text/plain": [
       "Index(['customerID', 'gender', 'SeniorCitizen', 'Partner', 'Dependents', 'tenure', 'PhoneService', 'MultipleLines', 'InternetService', 'OnlineSecurity', 'OnlineBackup', 'DeviceProtection', 'TechSupport', 'StreamingTV', 'StreamingMovies', 'Contract', 'PaperlessBilling', 'PaymentMethod', 'MonthlyCharges', 'TotalCharges', 'Churn'], dtype='object')"
      ]
     },
     "execution_count": 4,
     "metadata": {},
     "output_type": "execute_result"
    }
   ],
   "source": [
    "df.info()\n",
    "df.columns"
   ]
  },
  {
   "cell_type": "code",
   "execution_count": 5,
   "metadata": {},
   "outputs": [
    {
     "data": {
      "text/html": [
       "<div>\n",
       "<style scoped>\n",
       "    .dataframe tbody tr th:only-of-type {\n",
       "        vertical-align: middle;\n",
       "    }\n",
       "\n",
       "    .dataframe tbody tr th {\n",
       "        vertical-align: top;\n",
       "    }\n",
       "\n",
       "    .dataframe thead th {\n",
       "        text-align: right;\n",
       "    }\n",
       "</style>\n",
       "<table border=\"1\" class=\"dataframe\">\n",
       "  <thead>\n",
       "    <tr style=\"text-align: right;\">\n",
       "      <th></th>\n",
       "      <th>SeniorCitizen</th>\n",
       "      <th>tenure</th>\n",
       "      <th>MonthlyCharges</th>\n",
       "    </tr>\n",
       "  </thead>\n",
       "  <tbody>\n",
       "    <tr>\n",
       "      <th>count</th>\n",
       "      <td>7043.000000</td>\n",
       "      <td>7043.000000</td>\n",
       "      <td>7043.000000</td>\n",
       "    </tr>\n",
       "    <tr>\n",
       "      <th>mean</th>\n",
       "      <td>0.162147</td>\n",
       "      <td>32.371149</td>\n",
       "      <td>64.761692</td>\n",
       "    </tr>\n",
       "    <tr>\n",
       "      <th>std</th>\n",
       "      <td>0.368612</td>\n",
       "      <td>24.559481</td>\n",
       "      <td>30.090047</td>\n",
       "    </tr>\n",
       "    <tr>\n",
       "      <th>min</th>\n",
       "      <td>0.000000</td>\n",
       "      <td>0.000000</td>\n",
       "      <td>18.250000</td>\n",
       "    </tr>\n",
       "    <tr>\n",
       "      <th>25%</th>\n",
       "      <td>0.000000</td>\n",
       "      <td>9.000000</td>\n",
       "      <td>35.500000</td>\n",
       "    </tr>\n",
       "    <tr>\n",
       "      <th>50%</th>\n",
       "      <td>0.000000</td>\n",
       "      <td>29.000000</td>\n",
       "      <td>70.350000</td>\n",
       "    </tr>\n",
       "    <tr>\n",
       "      <th>75%</th>\n",
       "      <td>0.000000</td>\n",
       "      <td>55.000000</td>\n",
       "      <td>89.850000</td>\n",
       "    </tr>\n",
       "    <tr>\n",
       "      <th>max</th>\n",
       "      <td>1.000000</td>\n",
       "      <td>72.000000</td>\n",
       "      <td>118.750000</td>\n",
       "    </tr>\n",
       "  </tbody>\n",
       "</table>\n",
       "</div>"
      ],
      "text/plain": [
       "       SeniorCitizen       tenure  MonthlyCharges\n",
       "count    7043.000000  7043.000000     7043.000000\n",
       "mean        0.162147    32.371149       64.761692\n",
       "std         0.368612    24.559481       30.090047\n",
       "min         0.000000     0.000000       18.250000\n",
       "25%         0.000000     9.000000       35.500000\n",
       "50%         0.000000    29.000000       70.350000\n",
       "75%         0.000000    55.000000       89.850000\n",
       "max         1.000000    72.000000      118.750000"
      ]
     },
     "execution_count": 5,
     "metadata": {},
     "output_type": "execute_result"
    }
   ],
   "source": [
    "df.describe()"
   ]
  },
  {
   "cell_type": "code",
   "execution_count": 6,
   "metadata": {},
   "outputs": [
    {
     "data": {
      "text/html": [
       "<div>\n",
       "<style scoped>\n",
       "    .dataframe tbody tr th:only-of-type {\n",
       "        vertical-align: middle;\n",
       "    }\n",
       "\n",
       "    .dataframe tbody tr th {\n",
       "        vertical-align: top;\n",
       "    }\n",
       "\n",
       "    .dataframe thead th {\n",
       "        text-align: right;\n",
       "    }\n",
       "</style>\n",
       "<table border=\"1\" class=\"dataframe\">\n",
       "  <thead>\n",
       "    <tr style=\"text-align: right;\">\n",
       "      <th></th>\n",
       "      <th>customerID</th>\n",
       "      <th>gender</th>\n",
       "      <th>Partner</th>\n",
       "      <th>Dependents</th>\n",
       "      <th>PhoneService</th>\n",
       "      <th>MultipleLines</th>\n",
       "      <th>InternetService</th>\n",
       "      <th>OnlineSecurity</th>\n",
       "      <th>OnlineBackup</th>\n",
       "      <th>DeviceProtection</th>\n",
       "      <th>TechSupport</th>\n",
       "      <th>StreamingTV</th>\n",
       "      <th>StreamingMovies</th>\n",
       "      <th>Contract</th>\n",
       "      <th>PaperlessBilling</th>\n",
       "      <th>PaymentMethod</th>\n",
       "      <th>TotalCharges</th>\n",
       "      <th>Churn</th>\n",
       "    </tr>\n",
       "  </thead>\n",
       "  <tbody>\n",
       "    <tr>\n",
       "      <th>count</th>\n",
       "      <td>7043</td>\n",
       "      <td>7043</td>\n",
       "      <td>7043</td>\n",
       "      <td>7043</td>\n",
       "      <td>7043</td>\n",
       "      <td>7043</td>\n",
       "      <td>7043</td>\n",
       "      <td>7043</td>\n",
       "      <td>7043</td>\n",
       "      <td>7043</td>\n",
       "      <td>7043</td>\n",
       "      <td>7043</td>\n",
       "      <td>7043</td>\n",
       "      <td>7043</td>\n",
       "      <td>7043</td>\n",
       "      <td>7043</td>\n",
       "      <td>7043</td>\n",
       "      <td>7043</td>\n",
       "    </tr>\n",
       "    <tr>\n",
       "      <th>unique</th>\n",
       "      <td>7043</td>\n",
       "      <td>2</td>\n",
       "      <td>2</td>\n",
       "      <td>2</td>\n",
       "      <td>2</td>\n",
       "      <td>3</td>\n",
       "      <td>3</td>\n",
       "      <td>3</td>\n",
       "      <td>3</td>\n",
       "      <td>3</td>\n",
       "      <td>3</td>\n",
       "      <td>3</td>\n",
       "      <td>3</td>\n",
       "      <td>3</td>\n",
       "      <td>2</td>\n",
       "      <td>4</td>\n",
       "      <td>6531</td>\n",
       "      <td>2</td>\n",
       "    </tr>\n",
       "    <tr>\n",
       "      <th>top</th>\n",
       "      <td>2637-FKFSY</td>\n",
       "      <td>Male</td>\n",
       "      <td>No</td>\n",
       "      <td>No</td>\n",
       "      <td>Yes</td>\n",
       "      <td>No</td>\n",
       "      <td>Fiber optic</td>\n",
       "      <td>No</td>\n",
       "      <td>No</td>\n",
       "      <td>No</td>\n",
       "      <td>No</td>\n",
       "      <td>No</td>\n",
       "      <td>No</td>\n",
       "      <td>Month-to-month</td>\n",
       "      <td>Yes</td>\n",
       "      <td>Electronic check</td>\n",
       "      <td></td>\n",
       "      <td>No</td>\n",
       "    </tr>\n",
       "    <tr>\n",
       "      <th>freq</th>\n",
       "      <td>1</td>\n",
       "      <td>3555</td>\n",
       "      <td>3641</td>\n",
       "      <td>4933</td>\n",
       "      <td>6361</td>\n",
       "      <td>3390</td>\n",
       "      <td>3096</td>\n",
       "      <td>3498</td>\n",
       "      <td>3088</td>\n",
       "      <td>3095</td>\n",
       "      <td>3473</td>\n",
       "      <td>2810</td>\n",
       "      <td>2785</td>\n",
       "      <td>3875</td>\n",
       "      <td>4171</td>\n",
       "      <td>2365</td>\n",
       "      <td>11</td>\n",
       "      <td>5174</td>\n",
       "    </tr>\n",
       "  </tbody>\n",
       "</table>\n",
       "</div>"
      ],
      "text/plain": [
       "        customerID gender Partner Dependents PhoneService MultipleLines InternetService OnlineSecurity OnlineBackup DeviceProtection TechSupport StreamingTV StreamingMovies        Contract PaperlessBilling     PaymentMethod TotalCharges Churn\n",
       "count         7043   7043    7043       7043         7043          7043            7043           7043         7043             7043        7043        7043            7043            7043             7043              7043         7043  7043\n",
       "unique        7043      2       2          2            2             3               3              3            3                3           3           3               3               3                2                 4         6531     2\n",
       "top     2637-FKFSY   Male      No         No          Yes            No     Fiber optic             No           No               No          No          No              No  Month-to-month              Yes  Electronic check                 No\n",
       "freq             1   3555    3641       4933         6361          3390            3096           3498         3088             3095        3473        2810            2785            3875             4171              2365           11  5174"
      ]
     },
     "execution_count": 6,
     "metadata": {},
     "output_type": "execute_result"
    }
   ],
   "source": [
    "df.describe(include = ['O', 'bool'])"
   ]
  },
  {
   "cell_type": "code",
   "execution_count": 7,
   "metadata": {},
   "outputs": [
    {
     "data": {
      "text/plain": [
       "(7043, 21)"
      ]
     },
     "execution_count": 7,
     "metadata": {},
     "output_type": "execute_result"
    }
   ],
   "source": [
    "df.shape"
   ]
  },
  {
   "cell_type": "code",
   "execution_count": 8,
   "metadata": {},
   "outputs": [
    {
     "data": {
      "text/plain": [
       "customerID          0\n",
       "gender              0\n",
       "SeniorCitizen       0\n",
       "Partner             0\n",
       "Dependents          0\n",
       "tenure              0\n",
       "PhoneService        0\n",
       "MultipleLines       0\n",
       "InternetService     0\n",
       "OnlineSecurity      0\n",
       "OnlineBackup        0\n",
       "DeviceProtection    0\n",
       "TechSupport         0\n",
       "StreamingTV         0\n",
       "StreamingMovies     0\n",
       "Contract            0\n",
       "PaperlessBilling    0\n",
       "PaymentMethod       0\n",
       "MonthlyCharges      0\n",
       "TotalCharges        0\n",
       "Churn               0\n",
       "dtype: int64"
      ]
     },
     "execution_count": 8,
     "metadata": {},
     "output_type": "execute_result"
    }
   ],
   "source": [
    "df.isnull().sum()"
   ]
  },
  {
   "cell_type": "code",
   "execution_count": 9,
   "metadata": {},
   "outputs": [
    {
     "name": "stdout",
     "output_type": "stream",
     "text": [
      "customerID\n",
      "0002-ORFBO    1\n",
      "0003-MKNFE    1\n",
      "0004-TLHLJ    1\n",
      "0011-IGKFF    1\n",
      "0013-EXCHZ    1\n",
      "             ..\n",
      "9987-LUTYD    1\n",
      "9992-RRAMN    1\n",
      "9992-UJOEL    1\n",
      "9993-LHIEB    1\n",
      "9995-HOTOH    1\n",
      "Name: customerID, Length: 7043, dtype: int64\n",
      "gender\n",
      "Female    3488\n",
      "Male      3555\n",
      "Name: gender, dtype: int64\n",
      "SeniorCitizen\n",
      "0    5901\n",
      "1    1142\n",
      "Name: SeniorCitizen, dtype: int64\n",
      "Partner\n",
      "No     3641\n",
      "Yes    3402\n",
      "Name: Partner, dtype: int64\n",
      "Dependents\n",
      "No     4933\n",
      "Yes    2110\n",
      "Name: Dependents, dtype: int64\n",
      "tenure\n",
      "0      11\n",
      "1     613\n",
      "2     238\n",
      "3     200\n",
      "4     176\n",
      "5     133\n",
      "6     110\n",
      "7     131\n",
      "8     123\n",
      "9     119\n",
      "10    116\n",
      "11     99\n",
      "12    117\n",
      "13    109\n",
      "14     76\n",
      "15     99\n",
      "16     80\n",
      "17     87\n",
      "18     97\n",
      "19     73\n",
      "20     71\n",
      "21     63\n",
      "22     90\n",
      "23     85\n",
      "24     94\n",
      "25     79\n",
      "26     79\n",
      "27     72\n",
      "28     57\n",
      "29     72\n",
      "30     72\n",
      "31     65\n",
      "32     69\n",
      "33     64\n",
      "34     65\n",
      "35     88\n",
      "36     50\n",
      "37     65\n",
      "38     59\n",
      "39     56\n",
      "40     64\n",
      "41     70\n",
      "42     65\n",
      "43     65\n",
      "44     51\n",
      "45     61\n",
      "46     74\n",
      "47     68\n",
      "48     64\n",
      "49     66\n",
      "50     68\n",
      "51     68\n",
      "52     80\n",
      "53     70\n",
      "54     68\n",
      "55     64\n",
      "56     80\n",
      "57     65\n",
      "58     67\n",
      "59     60\n",
      "60     76\n",
      "61     76\n",
      "62     70\n",
      "63     72\n",
      "64     80\n",
      "65     76\n",
      "66     89\n",
      "67     98\n",
      "68    100\n",
      "69     95\n",
      "70    119\n",
      "71    170\n",
      "72    362\n",
      "Name: tenure, dtype: int64\n",
      "PhoneService\n",
      "No      682\n",
      "Yes    6361\n",
      "Name: PhoneService, dtype: int64\n",
      "MultipleLines\n",
      "No                  3390\n",
      "No phone service     682\n",
      "Yes                 2971\n",
      "Name: MultipleLines, dtype: int64\n",
      "InternetService\n",
      "DSL            2421\n",
      "Fiber optic    3096\n",
      "No             1526\n",
      "Name: InternetService, dtype: int64\n",
      "OnlineSecurity\n",
      "No                     3498\n",
      "No internet service    1526\n",
      "Yes                    2019\n",
      "Name: OnlineSecurity, dtype: int64\n",
      "OnlineBackup\n",
      "No                     3088\n",
      "No internet service    1526\n",
      "Yes                    2429\n",
      "Name: OnlineBackup, dtype: int64\n",
      "DeviceProtection\n",
      "No                     3095\n",
      "No internet service    1526\n",
      "Yes                    2422\n",
      "Name: DeviceProtection, dtype: int64\n",
      "TechSupport\n",
      "No                     3473\n",
      "No internet service    1526\n",
      "Yes                    2044\n",
      "Name: TechSupport, dtype: int64\n",
      "StreamingTV\n",
      "No                     2810\n",
      "No internet service    1526\n",
      "Yes                    2707\n",
      "Name: StreamingTV, dtype: int64\n",
      "StreamingMovies\n",
      "No                     2785\n",
      "No internet service    1526\n",
      "Yes                    2732\n",
      "Name: StreamingMovies, dtype: int64\n",
      "Contract\n",
      "Month-to-month    3875\n",
      "One year          1473\n",
      "Two year          1695\n",
      "Name: Contract, dtype: int64\n",
      "PaperlessBilling\n",
      "No     2872\n",
      "Yes    4171\n",
      "Name: PaperlessBilling, dtype: int64\n",
      "PaymentMethod\n",
      "Bank transfer (automatic)    1544\n",
      "Credit card (automatic)      1522\n",
      "Electronic check             2365\n",
      "Mailed check                 1612\n",
      "Name: PaymentMethod, dtype: int64\n",
      "MonthlyCharges\n",
      "18.25     1\n",
      "18.40     1\n",
      "18.55     1\n",
      "18.70     2\n",
      "18.75     1\n",
      "         ..\n",
      "118.20    1\n",
      "118.35    1\n",
      "118.60    2\n",
      "118.65    1\n",
      "118.75    1\n",
      "Name: MonthlyCharges, Length: 1585, dtype: int64\n",
      "TotalCharges\n",
      "          11\n",
      "100.2      1\n",
      "100.25     1\n",
      "100.35     1\n",
      "100.4      1\n",
      "          ..\n",
      "997.75     1\n",
      "998.1      1\n",
      "999.45     1\n",
      "999.8      1\n",
      "999.9      1\n",
      "Name: TotalCharges, Length: 6531, dtype: int64\n",
      "Churn\n",
      "No     5174\n",
      "Yes    1869\n",
      "Name: Churn, dtype: int64\n"
     ]
    }
   ],
   "source": [
    "for col in df.columns:\n",
    "    print(df.groupby([col])[col].count())"
   ]
  },
  {
   "cell_type": "code",
   "execution_count": 10,
   "metadata": {},
   "outputs": [],
   "source": [
    "'''\n",
    "Assume \"No internet service\" value is the same as \"No\" value for the following attributes: \n",
    "MultipleLines; OnlineSecurity; OnlineBackup; DeviceProtection; TechSupport; StreamingTV; StreamingMovies\n",
    "Assume \"No phone service\" value is the same as \"No\" value for \"MultipleLine\" attribute\n",
    "'''\n",
    "df.replace(\"No internet service\", \"No\", inplace = True)\n",
    "df.replace(\"No phone service\", \"No\", inplace = True)\n",
    "\n",
    "'''Senior Citizen column has two values, Yes and No but here it’s 1 and 0 and column is a int64 type. \n",
    "We need to replace 1s and 0s with Yes and No:change the value\n",
    "'''\n",
    "replacements = {\n",
    "  1: 'Yes',\n",
    "  0: 'No'\n",
    "}\n",
    "df['SeniorCitizen'].replace(replacements, inplace=True)"
   ]
  },
  {
   "cell_type": "code",
   "execution_count": 11,
   "metadata": {},
   "outputs": [],
   "source": [
    "'''CustomerID, just as value, will not have any affect in customer churn so, let's first drop that column.'''\n",
    "df = df.drop(['customerID'], axis =1)"
   ]
  },
  {
   "cell_type": "code",
   "execution_count": 12,
   "metadata": {},
   "outputs": [
    {
     "name": "stdout",
     "output_type": "stream",
     "text": [
      "Tenure is 0 and Monthly charges are 52.55\n",
      "Tenure is 0 and Monthly charges are 20.25\n",
      "Tenure is 0 and Monthly charges are 80.85\n",
      "Tenure is 0 and Monthly charges are 25.75\n",
      "Tenure is 0 and Monthly charges are 56.05\n",
      "Tenure is 0 and Monthly charges are 19.85\n",
      "Tenure is 0 and Monthly charges are 25.35\n",
      "Tenure is 0 and Monthly charges are 20.0\n",
      "Tenure is 0 and Monthly charges are 19.7\n",
      "Tenure is 0 and Monthly charges are 73.35\n",
      "Tenure is 0 and Monthly charges are 61.9\n"
     ]
    }
   ],
   "source": [
    "'''TotalCharges column should be numerical'''\n",
    "#df['TotalCharges'] = df['TotalCharges'].apply(pd.to_numeric) \n",
    "for i in range(len(df)):\n",
    "  if df.TotalCharges[i] == \" \":\n",
    "      print(\"Tenure is %s and Monthly charges are %s\" % (df.tenure[i], df.MonthlyCharges[i]))"
   ]
  },
  {
   "cell_type": "markdown",
   "metadata": {},
   "source": [
    "So, it’s obvious that total charges are blank when tenure is 0.Let’s replace space in TotalCharges to 0 and convert the column to numeric data type"
   ]
  },
  {
   "cell_type": "code",
   "execution_count": 13,
   "metadata": {},
   "outputs": [],
   "source": [
    "df.TotalCharges.replace([\" \"], [\"0\"], inplace= True)\n",
    "df['TotalCharges'] = df['TotalCharges'].apply(pd.to_numeric) "
   ]
  },
  {
   "cell_type": "code",
   "execution_count": 14,
   "metadata": {},
   "outputs": [
    {
     "name": "stdout",
     "output_type": "stream",
     "text": [
      "                  tenure  MonthlyCharges  TotalCharges\n",
      "tenure          1.000000        0.247900      0.826178\n",
      "MonthlyCharges  0.247900        1.000000      0.651174\n",
      "TotalCharges    0.826178        0.651174      1.000000\n"
     ]
    },
    {
     "data": {
      "text/plain": [
       "<matplotlib.axes._subplots.AxesSubplot at 0x240396c1708>"
      ]
     },
     "execution_count": 14,
     "metadata": {},
     "output_type": "execute_result"
    },
    {
     "data": {
      "image/png": "[encoded data removed]",
      "text/plain": [
       "<Figure size 432x288 with 2 Axes>"
      ]
     },
     "metadata": {
      "needs_background": "light"
     },
     "output_type": "display_data"
    }
   ],
   "source": [
    "#Correlation Between continuous attributes\n",
    "correlations = df.corr(method='pearson')\n",
    "print(correlations)\n",
    "sns.heatmap(correlations)"
   ]
  },
  {
   "cell_type": "markdown",
   "metadata": {},
   "source": [
    "As we can see, 'TotalCharges' are correlated with both 'tenure' and 'MonthlyCharges', so I remove this attribute from the model."
   ]
  },
  {
   "cell_type": "code",
   "execution_count": 15,
   "metadata": {},
   "outputs": [],
   "source": [
    "df.drop(['TotalCharges'], axis =1, inplace = True)"
   ]
  },
  {
   "cell_type": "code",
   "execution_count": 16,
   "metadata": {},
   "outputs": [
    {
     "name": "stderr",
     "output_type": "stream",
     "text": [
      "C:\\Users\\user\\Anaconda3\\anaconda\\lib\\site-packages\\seaborn\\categorical.py:3669: UserWarning: The `factorplot` function has been renamed to `catplot`. The original name will be removed in a future release. Please update your code. Note that the default `kind` in `factorplot` (`'point'`) has changed `'strip'` in `catplot`.\n",
      "  warnings.warn(msg)\n"
     ]
    },
    {
     "data": {
      "image/png": "[encoded data removed]",
      "text/plain": [
       "<Figure size 360x360 with 1 Axes>"
      ]
     },
     "metadata": {
      "needs_background": "light"
     },
     "output_type": "display_data"
    },
    {
     "data": {
      "image/png": "[encoded data removed]",
      "text/plain": [
       "<Figure size 360x360 with 1 Axes>"
      ]
     },
     "metadata": {
      "needs_background": "light"
     },
     "output_type": "display_data"
    },
    {
     "data": {
      "image/png": "[encoded data removed]",
      "text/plain": [
       "<Figure size 360x360 with 1 Axes>"
      ]
     },
     "metadata": {
      "needs_background": "light"
     },
     "output_type": "display_data"
    },
    {
     "data": {
      "image/png": "[encoded data removed]",
      "text/plain": [
       "<Figure size 360x360 with 1 Axes>"
      ]
     },
     "metadata": {
      "needs_background": "light"
     },
     "output_type": "display_data"
    },
    {
     "data": {
      "image/png": "[encoded data removed]",
      "text/plain": [
       "<Figure size 360x360 with 1 Axes>"
      ]
     },
     "metadata": {
      "needs_background": "light"
     },
     "output_type": "display_data"
    },
    {
     "data": {
      "image/png": "[encoded data removed]",
      "text/plain": [
       "<Figure size 360x360 with 1 Axes>"
      ]
     },
     "metadata": {
      "needs_background": "light"
     },
     "output_type": "display_data"
    },
    {
     "data": {
      "image/png": "[encoded data removed]",
      "text/plain": [
       "<Figure size 360x360 with 1 Axes>"
      ]
     },
     "metadata": {
      "needs_background": "light"
     },
     "output_type": "display_data"
    },
    {
     "data": {
      "image/png": "[encoded data removed]",
      "text/plain": [
       "<Figure size 360x360 with 1 Axes>"
      ]
     },
     "metadata": {
      "needs_background": "light"
     },
     "output_type": "display_data"
    },
    {
     "data": {
      "image/png": "[encoded data removed]",
      "text/plain": [
       "<Figure size 360x360 with 1 Axes>"
      ]
     },
     "metadata": {
      "needs_background": "light"
     },
     "output_type": "display_data"
    },
    {
     "data": {
      "image/png": "[encoded data removed]",
      "text/plain": [
       "<Figure size 360x360 with 1 Axes>"
      ]
     },
     "metadata": {
      "needs_background": "light"
     },
     "output_type": "display_data"
    },
    {
     "data": {
      "image/png": "[encoded data removed]",
      "text/plain": [
       "<Figure size 360x360 with 1 Axes>"
      ]
     },
     "metadata": {
      "needs_background": "light"
     },
     "output_type": "display_data"
    },
    {
     "data": {
      "image/png": "[encoded data removed]",
      "text/plain": [
       "<Figure size 360x360 with 1 Axes>"
      ]
     },
     "metadata": {
      "needs_background": "light"
     },
     "output_type": "display_data"
    },
    {
     "data": {
      "image/png": "[encoded data removed]",
      "text/plain": [
       "<Figure size 360x360 with 1 Axes>"
      ]
     },
     "metadata": {
      "needs_background": "light"
     },
     "output_type": "display_data"
    },
    {
     "data": {
      "image/png": "[encoded data removed]",
      "text/plain": [
       "<Figure size 360x360 with 1 Axes>"
      ]
     },
     "metadata": {
      "needs_background": "light"
     },
     "output_type": "display_data"
    },
    {
     "data": {
      "image/png": "[encoded data removed]",
      "text/plain": [
       "<Figure size 360x360 with 1 Axes>"
      ]
     },
     "metadata": {
      "needs_background": "light"
     },
     "output_type": "display_data"
    },
    {
     "data": {
      "image/png": "[encoded data removed]",
      "text/plain": [
       "<Figure size 360x360 with 1 Axes>"
      ]
     },
     "metadata": {
      "needs_background": "light"
     },
     "output_type": "display_data"
    },
    {
     "data": {
      "image/png": "[encoded data removed]",
      "text/plain": [
       "<Figure size 360x360 with 1 Axes>"
      ]
     },
     "metadata": {
      "needs_background": "light"
     },
     "output_type": "display_data"
    }
   ],
   "source": [
    "### Bar plots of categorical value\n",
    "cat_col = df.select_dtypes(exclude=[np.number]).columns.tolist()\n",
    "for feature in cat_col:\n",
    "   sns.factorplot(feature,data=df,kind='count')"
   ]
  },
  {
   "cell_type": "markdown",
   "metadata": {},
   "source": [
    "The categorical variables seem to have broad distribution, so we keep them for analysis"
   ]
  },
  {
   "cell_type": "code",
   "execution_count": 17,
   "metadata": {},
   "outputs": [
    {
     "data": {
      "text/html": [
       "<div>\n",
       "<style scoped>\n",
       "    .dataframe tbody tr th:only-of-type {\n",
       "        vertical-align: middle;\n",
       "    }\n",
       "\n",
       "    .dataframe tbody tr th {\n",
       "        vertical-align: top;\n",
       "    }\n",
       "\n",
       "    .dataframe thead th {\n",
       "        text-align: right;\n",
       "    }\n",
       "</style>\n",
       "<table border=\"1\" class=\"dataframe\">\n",
       "  <thead>\n",
       "    <tr style=\"text-align: right;\">\n",
       "      <th></th>\n",
       "      <th>gender</th>\n",
       "      <th>SeniorCitizen</th>\n",
       "      <th>Partner</th>\n",
       "      <th>Dependents</th>\n",
       "      <th>tenure</th>\n",
       "      <th>PhoneService</th>\n",
       "      <th>MultipleLines</th>\n",
       "      <th>InternetService</th>\n",
       "      <th>OnlineSecurity</th>\n",
       "      <th>OnlineBackup</th>\n",
       "      <th>DeviceProtection</th>\n",
       "      <th>TechSupport</th>\n",
       "      <th>StreamingTV</th>\n",
       "      <th>StreamingMovies</th>\n",
       "      <th>Contract</th>\n",
       "      <th>PaperlessBilling</th>\n",
       "      <th>PaymentMethod</th>\n",
       "      <th>MonthlyCharges</th>\n",
       "      <th>Churn</th>\n",
       "    </tr>\n",
       "  </thead>\n",
       "  <tbody>\n",
       "    <tr>\n",
       "      <th>0</th>\n",
       "      <td>0</td>\n",
       "      <td>0</td>\n",
       "      <td>1</td>\n",
       "      <td>0</td>\n",
       "      <td>1</td>\n",
       "      <td>0</td>\n",
       "      <td>0</td>\n",
       "      <td>0</td>\n",
       "      <td>0</td>\n",
       "      <td>1</td>\n",
       "      <td>0</td>\n",
       "      <td>0</td>\n",
       "      <td>0</td>\n",
       "      <td>0</td>\n",
       "      <td>0</td>\n",
       "      <td>1</td>\n",
       "      <td>2</td>\n",
       "      <td>29.85</td>\n",
       "      <td>0</td>\n",
       "    </tr>\n",
       "    <tr>\n",
       "      <th>1</th>\n",
       "      <td>1</td>\n",
       "      <td>0</td>\n",
       "      <td>0</td>\n",
       "      <td>0</td>\n",
       "      <td>34</td>\n",
       "      <td>1</td>\n",
       "      <td>0</td>\n",
       "      <td>0</td>\n",
       "      <td>1</td>\n",
       "      <td>0</td>\n",
       "      <td>1</td>\n",
       "      <td>0</td>\n",
       "      <td>0</td>\n",
       "      <td>0</td>\n",
       "      <td>1</td>\n",
       "      <td>0</td>\n",
       "      <td>3</td>\n",
       "      <td>56.95</td>\n",
       "      <td>0</td>\n",
       "    </tr>\n",
       "    <tr>\n",
       "      <th>2</th>\n",
       "      <td>1</td>\n",
       "      <td>0</td>\n",
       "      <td>0</td>\n",
       "      <td>0</td>\n",
       "      <td>2</td>\n",
       "      <td>1</td>\n",
       "      <td>0</td>\n",
       "      <td>0</td>\n",
       "      <td>1</td>\n",
       "      <td>1</td>\n",
       "      <td>0</td>\n",
       "      <td>0</td>\n",
       "      <td>0</td>\n",
       "      <td>0</td>\n",
       "      <td>0</td>\n",
       "      <td>1</td>\n",
       "      <td>3</td>\n",
       "      <td>53.85</td>\n",
       "      <td>1</td>\n",
       "    </tr>\n",
       "    <tr>\n",
       "      <th>3</th>\n",
       "      <td>1</td>\n",
       "      <td>0</td>\n",
       "      <td>0</td>\n",
       "      <td>0</td>\n",
       "      <td>45</td>\n",
       "      <td>0</td>\n",
       "      <td>0</td>\n",
       "      <td>0</td>\n",
       "      <td>1</td>\n",
       "      <td>0</td>\n",
       "      <td>1</td>\n",
       "      <td>1</td>\n",
       "      <td>0</td>\n",
       "      <td>0</td>\n",
       "      <td>1</td>\n",
       "      <td>0</td>\n",
       "      <td>0</td>\n",
       "      <td>42.30</td>\n",
       "      <td>0</td>\n",
       "    </tr>\n",
       "    <tr>\n",
       "      <th>4</th>\n",
       "      <td>0</td>\n",
       "      <td>0</td>\n",
       "      <td>0</td>\n",
       "      <td>0</td>\n",
       "      <td>2</td>\n",
       "      <td>1</td>\n",
       "      <td>0</td>\n",
       "      <td>1</td>\n",
       "      <td>0</td>\n",
       "      <td>0</td>\n",
       "      <td>0</td>\n",
       "      <td>0</td>\n",
       "      <td>0</td>\n",
       "      <td>0</td>\n",
       "      <td>0</td>\n",
       "      <td>1</td>\n",
       "      <td>2</td>\n",
       "      <td>70.70</td>\n",
       "      <td>1</td>\n",
       "    </tr>\n",
       "  </tbody>\n",
       "</table>\n",
       "</div>"
      ],
      "text/plain": [
       "   gender  SeniorCitizen  Partner  Dependents  tenure  PhoneService  MultipleLines  InternetService  OnlineSecurity  OnlineBackup  DeviceProtection  TechSupport  StreamingTV  StreamingMovies  Contract  PaperlessBilling  PaymentMethod  MonthlyCharges  Churn\n",
       "0       0              0        1           0       1             0              0                0               0             1                 0            0            0                0         0                 1              2           29.85      0\n",
       "1       1              0        0           0      34             1              0                0               1             0                 1            0            0                0         1                 0              3           56.95      0\n",
       "2       1              0        0           0       2             1              0                0               1             1                 0            0            0                0         0                 1              3           53.85      1\n",
       "3       1              0        0           0      45             0              0                0               1             0                 1            1            0                0         1                 0              0           42.30      0\n",
       "4       0              0        0           0       2             1              0                1               0             0                 0            0            0                0         0                 1              2           70.70      1"
      ]
     },
     "execution_count": 17,
     "metadata": {},
     "output_type": "execute_result"
    }
   ],
   "source": [
    "'''Now creating dummy variables'''\n",
    "for i in df.columns:\n",
    "    if i in cat_col:\n",
    "        df[i] = df[i].astype('category').cat.codes\n",
    "df.head()"
   ]
  },
  {
   "cell_type": "code",
   "execution_count": 18,
   "metadata": {},
   "outputs": [
    {
     "data": {
      "text/html": [
       "<div>\n",
       "<style scoped>\n",
       "    .dataframe tbody tr th:only-of-type {\n",
       "        vertical-align: middle;\n",
       "    }\n",
       "\n",
       "    .dataframe tbody tr th {\n",
       "        vertical-align: top;\n",
       "    }\n",
       "\n",
       "    .dataframe thead th {\n",
       "        text-align: right;\n",
       "    }\n",
       "</style>\n",
       "<table border=\"1\" class=\"dataframe\">\n",
       "  <thead>\n",
       "    <tr style=\"text-align: right;\">\n",
       "      <th></th>\n",
       "      <th>gender</th>\n",
       "      <th>SeniorCitizen</th>\n",
       "      <th>Partner</th>\n",
       "      <th>Dependents</th>\n",
       "      <th>tenure</th>\n",
       "      <th>PhoneService</th>\n",
       "      <th>MultipleLines</th>\n",
       "      <th>InternetService</th>\n",
       "      <th>OnlineSecurity</th>\n",
       "      <th>OnlineBackup</th>\n",
       "      <th>DeviceProtection</th>\n",
       "      <th>TechSupport</th>\n",
       "      <th>StreamingTV</th>\n",
       "      <th>StreamingMovies</th>\n",
       "      <th>Contract</th>\n",
       "      <th>PaperlessBilling</th>\n",
       "      <th>PaymentMethod</th>\n",
       "      <th>MonthlyCharges</th>\n",
       "      <th>Churn</th>\n",
       "    </tr>\n",
       "  </thead>\n",
       "  <tbody>\n",
       "    <tr>\n",
       "      <th>0</th>\n",
       "      <td>0</td>\n",
       "      <td>0</td>\n",
       "      <td>1</td>\n",
       "      <td>0</td>\n",
       "      <td>1</td>\n",
       "      <td>0</td>\n",
       "      <td>0</td>\n",
       "      <td>0</td>\n",
       "      <td>0</td>\n",
       "      <td>1</td>\n",
       "      <td>0</td>\n",
       "      <td>0</td>\n",
       "      <td>0</td>\n",
       "      <td>0</td>\n",
       "      <td>0</td>\n",
       "      <td>1</td>\n",
       "      <td>2</td>\n",
       "      <td>29.85</td>\n",
       "      <td>0</td>\n",
       "    </tr>\n",
       "    <tr>\n",
       "      <th>1</th>\n",
       "      <td>1</td>\n",
       "      <td>0</td>\n",
       "      <td>0</td>\n",
       "      <td>0</td>\n",
       "      <td>34</td>\n",
       "      <td>1</td>\n",
       "      <td>0</td>\n",
       "      <td>0</td>\n",
       "      <td>1</td>\n",
       "      <td>0</td>\n",
       "      <td>1</td>\n",
       "      <td>0</td>\n",
       "      <td>0</td>\n",
       "      <td>0</td>\n",
       "      <td>1</td>\n",
       "      <td>0</td>\n",
       "      <td>3</td>\n",
       "      <td>56.95</td>\n",
       "      <td>0</td>\n",
       "    </tr>\n",
       "    <tr>\n",
       "      <th>2</th>\n",
       "      <td>1</td>\n",
       "      <td>0</td>\n",
       "      <td>0</td>\n",
       "      <td>0</td>\n",
       "      <td>2</td>\n",
       "      <td>1</td>\n",
       "      <td>0</td>\n",
       "      <td>0</td>\n",
       "      <td>1</td>\n",
       "      <td>1</td>\n",
       "      <td>0</td>\n",
       "      <td>0</td>\n",
       "      <td>0</td>\n",
       "      <td>0</td>\n",
       "      <td>0</td>\n",
       "      <td>1</td>\n",
       "      <td>3</td>\n",
       "      <td>53.85</td>\n",
       "      <td>1</td>\n",
       "    </tr>\n",
       "    <tr>\n",
       "      <th>3</th>\n",
       "      <td>1</td>\n",
       "      <td>0</td>\n",
       "      <td>0</td>\n",
       "      <td>0</td>\n",
       "      <td>45</td>\n",
       "      <td>0</td>\n",
       "      <td>0</td>\n",
       "      <td>0</td>\n",
       "      <td>1</td>\n",
       "      <td>0</td>\n",
       "      <td>1</td>\n",
       "      <td>1</td>\n",
       "      <td>0</td>\n",
       "      <td>0</td>\n",
       "      <td>1</td>\n",
       "      <td>0</td>\n",
       "      <td>0</td>\n",
       "      <td>42.30</td>\n",
       "      <td>0</td>\n",
       "    </tr>\n",
       "    <tr>\n",
       "      <th>4</th>\n",
       "      <td>0</td>\n",
       "      <td>0</td>\n",
       "      <td>0</td>\n",
       "      <td>0</td>\n",
       "      <td>2</td>\n",
       "      <td>1</td>\n",
       "      <td>0</td>\n",
       "      <td>1</td>\n",
       "      <td>0</td>\n",
       "      <td>0</td>\n",
       "      <td>0</td>\n",
       "      <td>0</td>\n",
       "      <td>0</td>\n",
       "      <td>0</td>\n",
       "      <td>0</td>\n",
       "      <td>1</td>\n",
       "      <td>2</td>\n",
       "      <td>70.70</td>\n",
       "      <td>1</td>\n",
       "    </tr>\n",
       "  </tbody>\n",
       "</table>\n",
       "</div>"
      ],
      "text/plain": [
       "   gender  SeniorCitizen  Partner  Dependents  tenure  PhoneService  MultipleLines  InternetService  OnlineSecurity  OnlineBackup  DeviceProtection  TechSupport  StreamingTV  StreamingMovies  Contract  PaperlessBilling  PaymentMethod  MonthlyCharges  Churn\n",
       "0       0              0        1           0       1             0              0                0               0             1                 0            0            0                0         0                 1              2           29.85      0\n",
       "1       1              0        0           0      34             1              0                0               1             0                 1            0            0                0         1                 0              3           56.95      0\n",
       "2       1              0        0           0       2             1              0                0               1             1                 0            0            0                0         0                 1              3           53.85      1\n",
       "3       1              0        0           0      45             0              0                0               1             0                 1            1            0                0         1                 0              0           42.30      0\n",
       "4       0              0        0           0       2             1              0                1               0             0                 0            0            0                0         0                 1              2           70.70      1"
      ]
     },
     "execution_count": 18,
     "metadata": {},
     "output_type": "execute_result"
    }
   ],
   "source": [
    "df.head()"
   ]
  },
  {
   "cell_type": "code",
   "execution_count": 19,
   "metadata": {},
   "outputs": [],
   "source": [
    "'''Feature Scaling'''\n",
    "from sklearn.preprocessing import MinMaxScaler, StandardScaler\n",
    "scaler = MinMaxScaler()\n",
    "df = pd.DataFrame(scaler.fit_transform(df),\n",
    "index=df.index, columns=df.columns)"
   ]
  },
  {
   "cell_type": "code",
   "execution_count": 20,
   "metadata": {},
   "outputs": [
    {
     "name": "stdout",
     "output_type": "stream",
     "text": [
      "Churn\n",
      "0.0    5174\n",
      "1.0    1869\n",
      "dtype: int64\n"
     ]
    }
   ],
   "source": [
    "class_counts = df.groupby('Churn').size()\n",
    "print(class_counts)\n"
   ]
  },
  {
   "cell_type": "code",
   "execution_count": 21,
   "metadata": {},
   "outputs": [
    {
     "data": {
      "text/plain": [
       "Index(['gender', 'SeniorCitizen', 'Partner', 'Dependents', 'tenure', 'PhoneService', 'MultipleLines', 'InternetService', 'OnlineSecurity', 'OnlineBackup', 'DeviceProtection', 'TechSupport', 'StreamingTV', 'StreamingMovies', 'Contract', 'PaperlessBilling', 'PaymentMethod', 'MonthlyCharges', 'Churn'], dtype='object')"
      ]
     },
     "execution_count": 21,
     "metadata": {},
     "output_type": "execute_result"
    }
   ],
   "source": [
    "df.columns"
   ]
  },
  {
   "cell_type": "markdown",
   "metadata": {},
   "source": [
    "Outcome of this dataset is a majority of 'Churn ==0 (no)' class. Therefore, F1 score is more useful than accuracy score \n",
    "as a metric for model evaluation. "
   ]
  },
  {
   "cell_type": "code",
   "execution_count": 22,
   "metadata": {},
   "outputs": [],
   "source": [
    "from sklearn.metrics import recall_score, precision_score, accuracy_score, f1_score\n",
    "from sklearn.metrics import confusion_matrix,auc,roc_auc_score"
   ]
  },
  {
   "cell_type": "code",
   "execution_count": 23,
   "metadata": {},
   "outputs": [],
   "source": [
    "from sklearn.model_selection import train_test_split, cross_val_score, GridSearchCV\n",
    "X = df.drop('Churn', axis = 1)\n",
    "y = df['Churn']\n",
    "trainx, validx, trainy, validy = train_test_split(X, y, test_size=0.4, random_state=1)"
   ]
  },
  {
   "cell_type": "markdown",
   "metadata": {},
   "source": [
    "#### Support Vector Machine"
   ]
  },
  {
   "cell_type": "code",
   "execution_count": 24,
   "metadata": {},
   "outputs": [
    {
     "name": "stdout",
     "output_type": "stream",
     "text": [
      "              precision    recall  f1-score   support\n",
      "\n",
      "         0.0       0.85      0.89      0.87      2098\n",
      "         1.0       0.63      0.53      0.58       720\n",
      "\n",
      "    accuracy                           0.80      2818\n",
      "   macro avg       0.74      0.71      0.72      2818\n",
      "weighted avg       0.79      0.80      0.79      2818\n",
      "\n"
     ]
    }
   ],
   "source": [
    "from sklearn.linear_model import LogisticRegression\n",
    "from sklearn.svm import LinearSVC\n",
    "from sklearn import metrics\n",
    "svm = LinearSVC()\n",
    "# Train the supervised model on the training set using .fit(X_train, y_train)\n",
    "svm.fit(trainx, trainy)\n",
    "y_pred1 = svm.predict(validx) #predicted class\n",
    "print(metrics.classification_report(validy, y_pred1))"
   ]
  },
  {
   "cell_type": "markdown",
   "metadata": {},
   "source": [
    "#### Random Forest"
   ]
  },
  {
   "cell_type": "code",
   "execution_count": 25,
   "metadata": {},
   "outputs": [
    {
     "name": "stdout",
     "output_type": "stream",
     "text": [
      "              precision    recall  f1-score   support\n",
      "\n",
      "         0.0       0.84      0.89      0.87      2098\n",
      "         1.0       0.62      0.51      0.56       720\n",
      "\n",
      "    accuracy                           0.79      2818\n",
      "   macro avg       0.73      0.70      0.71      2818\n",
      "weighted avg       0.78      0.79      0.79      2818\n",
      "\n"
     ]
    }
   ],
   "source": [
    "from sklearn.ensemble import RandomForestClassifier\n",
    "rf = RandomForestClassifier(n_estimators=100, n_jobs=-1)\n",
    "# Train the supervised model on the training set using .fit(X_train, y_train)\n",
    "rf = rf.fit(trainx, trainy)\n",
    "y_pred2 = rf.predict(validx)\n",
    "print(metrics.classification_report(validy, y_pred2))\n"
   ]
  },
  {
   "cell_type": "code",
   "execution_count": 26,
   "metadata": {},
   "outputs": [
    {
     "name": "stdout",
     "output_type": "stream",
     "text": [
      "Index(['gender', 'SeniorCitizen', 'Partner', 'Dependents', 'tenure', 'PhoneService', 'MultipleLines', 'InternetService', 'OnlineSecurity', 'OnlineBackup', 'DeviceProtection', 'TechSupport', 'StreamingTV', 'StreamingMovies', 'Contract', 'PaperlessBilling', 'PaymentMethod', 'MonthlyCharges'], dtype='object')\n",
      "[0.0330447  0.02494297 0.02766327 0.02251607 0.22839996 0.00891272\n",
      " 0.02399125 0.03697055 0.02789411 0.0254236  0.02497723 0.02734071\n",
      " 0.02092435 0.02104561 0.10537337 0.03051446 0.06598861 0.24407645]\n"
     ]
    }
   ],
   "source": [
    "# Extract the feature importances using .feature_importances_ \n",
    "importances = rf.feature_importances_\n",
    "print(trainx.columns)\n",
    "print(importances)"
   ]
  },
  {
   "cell_type": "code",
   "execution_count": 27,
   "metadata": {},
   "outputs": [
    {
     "name": "stdout",
     "output_type": "stream",
     "text": [
      "Feature ranking:\n",
      "1. feature 17 (0.244076)\n",
      "2. feature 4 (0.228400)\n",
      "3. feature 14 (0.105373)\n",
      "4. feature 16 (0.065989)\n",
      "5. feature 7 (0.036971)\n",
      "6. feature 0 (0.033045)\n",
      "7. feature 15 (0.030514)\n",
      "8. feature 8 (0.027894)\n",
      "9. feature 2 (0.027663)\n",
      "10. feature 11 (0.027341)\n",
      "11. feature 9 (0.025424)\n",
      "12. feature 10 (0.024977)\n",
      "13. feature 1 (0.024943)\n",
      "14. feature 6 (0.023991)\n",
      "15. feature 3 (0.022516)\n",
      "16. feature 13 (0.021046)\n",
      "17. feature 12 (0.020924)\n",
      "18. feature 5 (0.008913)\n"
     ]
    },
    {
     "data": {
      "image/png": "[encoded data removed]",
      "text/plain": [
       "<Figure size 432x288 with 1 Axes>"
      ]
     },
     "metadata": {
      "needs_background": "light"
     },
     "output_type": "display_data"
    }
   ],
   "source": [
    "# Print the feature ranking\n",
    "std = np.std([tree.feature_importances_ for tree in rf.estimators_],\n",
    "             axis=0)\n",
    "indices = np.argsort(importances)[::-1]\n",
    "\n",
    "print(\"Feature ranking:\")\n",
    "\n",
    "for f in range(trainx.shape[1]):\n",
    "    print(\"%d. feature %d (%f)\" % (f + 1, indices[f], importances[indices[f]]))\n",
    "\n",
    "# Plot the feature importances of the forest\n",
    "plt.figure()\n",
    "plt.title(\"Feature importances\")\n",
    "plt.bar(range(trainx.shape[1]), importances[indices],\n",
    "       color=\"r\", yerr=std[indices], align=\"center\")\n",
    "plt.xticks(range(trainx.shape[1]), trainx.columns[indices], rotation=90)\n",
    "plt.xlim([-1, trainx.shape[1]])\n",
    "plt.show()"
   ]
  },
  {
   "cell_type": "markdown",
   "metadata": {},
   "source": [
    "From the graph, we learn that the 'MonthlyCharges', 'tenure','Contract', and 'Payment Method' are the key features that has the most importance on the whether or not customers will leave."
   ]
  },
  {
   "cell_type": "markdown",
   "metadata": {},
   "source": [
    "#### Logistic Regression"
   ]
  },
  {
   "cell_type": "code",
   "execution_count": 28,
   "metadata": {},
   "outputs": [
    {
     "name": "stdout",
     "output_type": "stream",
     "text": [
      "[[-0.02480861  0.29801813  0.0263456  -0.15179267 -2.43747097 -0.98472073\n",
      "   0.12494938  0.11416616 -0.53452019 -0.20413376 -0.23300307 -0.52053085\n",
      "   0.02351809 -0.03559089 -1.3663611   0.38408799  0.15921445  3.29139264]]\n",
      "              precision    recall  f1-score   support\n",
      "\n",
      "         0.0       0.85      0.89      0.87      2098\n",
      "         1.0       0.63      0.53      0.58       720\n",
      "\n",
      "    accuracy                           0.80      2818\n",
      "   macro avg       0.74      0.71      0.72      2818\n",
      "weighted avg       0.79      0.80      0.79      2818\n",
      "\n"
     ]
    }
   ],
   "source": [
    "from sklearn.feature_selection import RFE\n",
    "logreg = LogisticRegression()\n",
    "logreg.fit(trainx, trainy)\n",
    "print(logreg.coef_)\n",
    "y_pred3 = logreg.predict(validx)\n",
    "logreg.score(validx, validy) \n",
    "print(metrics.classification_report(validy, y_pred3))"
   ]
  },
  {
   "cell_type": "code",
   "execution_count": 29,
   "metadata": {
    "scrolled": true
   },
   "outputs": [
    {
     "name": "stderr",
     "output_type": "stream",
     "text": [
      "C:\\Users\\user\\Anaconda3\\anaconda\\lib\\site-packages\\seaborn\\axisgrid.py:1264: UserWarning: The `size` parameter has been renamed to `height`; please update your code.\n",
      "  warnings.warn(UserWarning(msg))\n",
      "C:\\Users\\user\\Anaconda3\\anaconda\\lib\\site-packages\\seaborn\\axisgrid.py:1264: UserWarning: The `size` parameter has been renamed to `height`; please update your code.\n",
      "  warnings.warn(UserWarning(msg))\n"
     ]
    },
    {
     "data": {
      "text/plain": [
       "Text(0, 0.5, 'Churn')"
      ]
     },
     "execution_count": 29,
     "metadata": {},
     "output_type": "execute_result"
    },
    {
     "data": {
      "image/png": "[encoded data removed]",
      "text/plain": [
       "<Figure size 252x252 with 1 Axes>"
      ]
     },
     "metadata": {
      "needs_background": "light"
     },
     "output_type": "display_data"
    },
    {
     "data": {
      "image/png": "[encoded data removed]",
      "text/plain": [
       "<Figure size 252x252 with 1 Axes>"
      ]
     },
     "metadata": {
      "needs_background": "light"
     },
     "output_type": "display_data"
    },
    {
     "data": {
      "image/png": "[encoded data removed]",
      "text/plain": [
       "<Figure size 432x288 with 1 Axes>"
      ]
     },
     "metadata": {
      "needs_background": "light"
     },
     "output_type": "display_data"
    },
    {
     "data": {
      "image/png": "[encoded data removed]",
      "text/plain": [
       "<Figure size 432x288 with 1 Axes>"
      ]
     },
     "metadata": {
      "needs_background": "light"
     },
     "output_type": "display_data"
    }
   ],
   "source": [
    "g = sns.PairGrid(df,\n",
    "                 y_vars= ['tenure'],\n",
    "                 x_vars=['Churn'],\n",
    "                 aspect=1, size=3.5)\n",
    "g.map(sns.barplot, palette=\"pastel\");\n",
    "\n",
    "g = sns.PairGrid(df,\n",
    "                 y_vars= ['MonthlyCharges'],\n",
    "                 x_vars=['Churn'],\n",
    "                 aspect=1, size=3.5)\n",
    "g.map(sns.barplot, palette=\"pastel\");\n",
    "\n",
    "pd.crosstab(df.Contract,df.Churn).plot(kind='bar')\n",
    "plt.xlabel('Contract')\n",
    "plt.ylabel('Churn')\n",
    "\n",
    "pd.crosstab(df.PaymentMethod,df.Churn).plot(kind='bar')\n",
    "plt.xlabel('PaymentMethod')\n",
    "plt.ylabel('Churn')"
   ]
  },
  {
   "cell_type": "code",
   "execution_count": 30,
   "metadata": {},
   "outputs": [
    {
     "name": "stderr",
     "output_type": "stream",
     "text": [
      "Using TensorFlow backend.\n",
      "C:\\Users\\user\\Anaconda3\\anaconda\\lib\\site-packages\\tensorflow\\python\\framework\\dtypes.py:516: FutureWarning: Passing (type, 1) or '1type' as a synonym of type is deprecated; in a future version of numpy, it will be understood as (type, (1,)) / '(1,)type'.\n",
      "  _np_qint8 = np.dtype([(\"qint8\", np.int8, 1)])\n",
      "C:\\Users\\user\\Anaconda3\\anaconda\\lib\\site-packages\\tensorflow\\python\\framework\\dtypes.py:517: FutureWarning: Passing (type, 1) or '1type' as a synonym of type is deprecated; in a future version of numpy, it will be understood as (type, (1,)) / '(1,)type'.\n",
      "  _np_quint8 = np.dtype([(\"quint8\", np.uint8, 1)])\n",
      "C:\\Users\\user\\Anaconda3\\anaconda\\lib\\site-packages\\tensorflow\\python\\framework\\dtypes.py:518: FutureWarning: Passing (type, 1) or '1type' as a synonym of type is deprecated; in a future version of numpy, it will be understood as (type, (1,)) / '(1,)type'.\n",
      "  _np_qint16 = np.dtype([(\"qint16\", np.int16, 1)])\n",
      "C:\\Users\\user\\Anaconda3\\anaconda\\lib\\site-packages\\tensorflow\\python\\framework\\dtypes.py:519: FutureWarning: Passing (type, 1) or '1type' as a synonym of type is deprecated; in a future version of numpy, it will be understood as (type, (1,)) / '(1,)type'.\n",
      "  _np_quint16 = np.dtype([(\"quint16\", np.uint16, 1)])\n",
      "C:\\Users\\user\\Anaconda3\\anaconda\\lib\\site-packages\\tensorflow\\python\\framework\\dtypes.py:520: FutureWarning: Passing (type, 1) or '1type' as a synonym of type is deprecated; in a future version of numpy, it will be understood as (type, (1,)) / '(1,)type'.\n",
      "  _np_qint32 = np.dtype([(\"qint32\", np.int32, 1)])\n",
      "C:\\Users\\user\\Anaconda3\\anaconda\\lib\\site-packages\\tensorflow\\python\\framework\\dtypes.py:525: FutureWarning: Passing (type, 1) or '1type' as a synonym of type is deprecated; in a future version of numpy, it will be understood as (type, (1,)) / '(1,)type'.\n",
      "  np_resource = np.dtype([(\"resource\", np.ubyte, 1)])\n",
      "C:\\Users\\user\\Anaconda3\\anaconda\\lib\\site-packages\\tensorboard\\compat\\tensorflow_stub\\dtypes.py:541: FutureWarning: Passing (type, 1) or '1type' as a synonym of type is deprecated; in a future version of numpy, it will be understood as (type, (1,)) / '(1,)type'.\n",
      "  _np_qint8 = np.dtype([(\"qint8\", np.int8, 1)])\n",
      "C:\\Users\\user\\Anaconda3\\anaconda\\lib\\site-packages\\tensorboard\\compat\\tensorflow_stub\\dtypes.py:542: FutureWarning: Passing (type, 1) or '1type' as a synonym of type is deprecated; in a future version of numpy, it will be understood as (type, (1,)) / '(1,)type'.\n",
      "  _np_quint8 = np.dtype([(\"quint8\", np.uint8, 1)])\n",
      "C:\\Users\\user\\Anaconda3\\anaconda\\lib\\site-packages\\tensorboard\\compat\\tensorflow_stub\\dtypes.py:543: FutureWarning: Passing (type, 1) or '1type' as a synonym of type is deprecated; in a future version of numpy, it will be understood as (type, (1,)) / '(1,)type'.\n",
      "  _np_qint16 = np.dtype([(\"qint16\", np.int16, 1)])\n",
      "C:\\Users\\user\\Anaconda3\\anaconda\\lib\\site-packages\\tensorboard\\compat\\tensorflow_stub\\dtypes.py:544: FutureWarning: Passing (type, 1) or '1type' as a synonym of type is deprecated; in a future version of numpy, it will be understood as (type, (1,)) / '(1,)type'.\n",
      "  _np_quint16 = np.dtype([(\"quint16\", np.uint16, 1)])\n",
      "C:\\Users\\user\\Anaconda3\\anaconda\\lib\\site-packages\\tensorboard\\compat\\tensorflow_stub\\dtypes.py:545: FutureWarning: Passing (type, 1) or '1type' as a synonym of type is deprecated; in a future version of numpy, it will be understood as (type, (1,)) / '(1,)type'.\n",
      "  _np_qint32 = np.dtype([(\"qint32\", np.int32, 1)])\n",
      "C:\\Users\\user\\Anaconda3\\anaconda\\lib\\site-packages\\tensorboard\\compat\\tensorflow_stub\\dtypes.py:550: FutureWarning: Passing (type, 1) or '1type' as a synonym of type is deprecated; in a future version of numpy, it will be understood as (type, (1,)) / '(1,)type'.\n",
      "  np_resource = np.dtype([(\"resource\", np.ubyte, 1)])\n"
     ]
    }
   ],
   "source": [
    "import keras"
   ]
  },
  {
   "cell_type": "code",
   "execution_count": 31,
   "metadata": {},
   "outputs": [],
   "source": [
    "from keras.models import Sequential\n",
    "from keras.layers import Dense"
   ]
  },
  {
   "cell_type": "code",
   "execution_count": 32,
   "metadata": {},
   "outputs": [
    {
     "name": "stderr",
     "output_type": "stream",
     "text": [
      "C:\\Users\\user\\Anaconda3\\anaconda\\lib\\site-packages\\ipykernel_launcher.py:2: UserWarning: Update your `Dense` call to the Keras 2 API: `Dense(activation=\"relu\", input_dim=18, units=6, kernel_initializer=\"uniform\")`\n",
      "  \n",
      "C:\\Users\\user\\Anaconda3\\anaconda\\lib\\site-packages\\ipykernel_launcher.py:3: UserWarning: Update your `Dense` call to the Keras 2 API: `Dense(activation=\"relu\", units=6, kernel_initializer=\"uniform\")`\n",
      "  This is separate from the ipykernel package so we can avoid doing imports until\n",
      "C:\\Users\\user\\Anaconda3\\anaconda\\lib\\site-packages\\ipykernel_launcher.py:4: UserWarning: Update your `Dense` call to the Keras 2 API: `Dense(activation=\"sigmoid\", units=1, kernel_initializer=\"uniform\")`\n",
      "  after removing the cwd from sys.path.\n"
     ]
    }
   ],
   "source": [
    "classifier = Sequential()\n",
    "classifier.add(Dense(output_dim = 6, init = 'uniform', activation = 'relu', input_dim = 18))\n",
    "classifier.add(Dense(output_dim = 6, init = 'uniform', activation = 'relu'))\n",
    "classifier.add(Dense(output_dim = 1, init = 'uniform', activation = 'sigmoid'))"
   ]
  },
  {
   "cell_type": "code",
   "execution_count": 33,
   "metadata": {},
   "outputs": [
    {
     "name": "stdout",
     "output_type": "stream",
     "text": [
      "WARNING:tensorflow:From C:\\Users\\user\\Anaconda3\\anaconda\\lib\\site-packages\\tensorflow\\python\\ops\\nn_impl.py:180: add_dispatch_support.<locals>.wrapper (from tensorflow.python.ops.array_ops) is deprecated and will be removed in a future version.\n",
      "Instructions for updating:\n",
      "Use tf.where in 2.0, which has the same broadcast rule as np.where\n"
     ]
    }
   ],
   "source": [
    "classifier.compile(optimizer = 'adam', loss = 'binary_crossentropy', metrics = ['accuracy'])"
   ]
  },
  {
   "cell_type": "code",
   "execution_count": 34,
   "metadata": {},
   "outputs": [
    {
     "name": "stderr",
     "output_type": "stream",
     "text": [
      "C:\\Users\\user\\Anaconda3\\anaconda\\lib\\site-packages\\ipykernel_launcher.py:1: UserWarning: The `nb_epoch` argument in `fit` has been renamed `epochs`.\n",
      "  \"\"\"Entry point for launching an IPython kernel.\n"
     ]
    },
    {
     "name": "stdout",
     "output_type": "stream",
     "text": [
      "WARNING:tensorflow:From C:\\Users\\user\\Anaconda3\\anaconda\\lib\\site-packages\\keras\\backend\\tensorflow_backend.py:422: The name tf.global_variables is deprecated. Please use tf.compat.v1.global_variables instead.\n",
      "\n",
      "Epoch 1/100\n",
      "4225/4225 [==============================] - 1s 201us/step - loss: 0.5748 - accuracy: 0.7280\n",
      "Epoch 2/100\n",
      "4225/4225 [==============================] - 1s 150us/step - loss: 0.4836 - accuracy: 0.7280\n",
      "Epoch 3/100\n",
      "4225/4225 [==============================] - 1s 143us/step - loss: 0.4590 - accuracy: 0.7666\n",
      "Epoch 4/100\n",
      "4225/4225 [==============================] - 1s 143us/step - loss: 0.4520 - accuracy: 0.7858\n",
      "Epoch 5/100\n",
      "4225/4225 [==============================] - 1s 141us/step - loss: 0.4475 - accuracy: 0.7844\n",
      "Epoch 6/100\n",
      "4225/4225 [==============================] - 1s 146us/step - loss: 0.4460 - accuracy: 0.7886\n",
      "Epoch 7/100\n",
      "4225/4225 [==============================] - 1s 137us/step - loss: 0.4448 - accuracy: 0.7903\n",
      "Epoch 8/100\n",
      "4225/4225 [==============================] - 1s 139us/step - loss: 0.4428 - accuracy: 0.7901\n",
      "Epoch 9/100\n",
      "4225/4225 [==============================] - 1s 122us/step - loss: 0.4407 - accuracy: 0.7924\n",
      "Epoch 10/100\n",
      "4225/4225 [==============================] - 1s 128us/step - loss: 0.4394 - accuracy: 0.7934\n",
      "Epoch 11/100\n",
      "4225/4225 [==============================] - 1s 128us/step - loss: 0.4384 - accuracy: 0.7946\n",
      "Epoch 12/100\n",
      "4225/4225 [==============================] - 1s 143us/step - loss: 0.4368 - accuracy: 0.7964\n",
      "Epoch 13/100\n",
      "4225/4225 [==============================] - 1s 136us/step - loss: 0.4356 - accuracy: 0.7960\n",
      "Epoch 14/100\n",
      "4225/4225 [==============================] - 1s 130us/step - loss: 0.4348 - accuracy: 0.7974\n",
      "Epoch 15/100\n",
      "4225/4225 [==============================] - 1s 150us/step - loss: 0.4321 - accuracy: 0.7953\n",
      "Epoch 16/100\n",
      "4225/4225 [==============================] - 1s 144us/step - loss: 0.4325 - accuracy: 0.8019\n",
      "Epoch 17/100\n",
      "4225/4225 [==============================] - 1s 131us/step - loss: 0.4328 - accuracy: 0.8009\n",
      "Epoch 18/100\n",
      "4225/4225 [==============================] - 1s 128us/step - loss: 0.4308 - accuracy: 0.7995\n",
      "Epoch 19/100\n",
      "4225/4225 [==============================] - 1s 156us/step - loss: 0.4313 - accuracy: 0.8024\n",
      "Epoch 20/100\n",
      "4225/4225 [==============================] - 1s 125us/step - loss: 0.4297 - accuracy: 0.8036\n",
      "Epoch 21/100\n",
      "4225/4225 [==============================] - 1s 123us/step - loss: 0.4294 - accuracy: 0.7998\n",
      "Epoch 22/100\n",
      "4225/4225 [==============================] - 1s 125us/step - loss: 0.4284 - accuracy: 0.8054\n",
      "Epoch 23/100\n",
      "4225/4225 [==============================] - 1s 121us/step - loss: 0.4287 - accuracy: 0.8019\n",
      "Epoch 24/100\n",
      "4225/4225 [==============================] - 1s 128us/step - loss: 0.4282 - accuracy: 0.8040\n",
      "Epoch 25/100\n",
      "4225/4225 [==============================] - 1s 131us/step - loss: 0.4281 - accuracy: 0.8026\n",
      "Epoch 26/100\n",
      "4225/4225 [==============================] - 1s 132us/step - loss: 0.4284 - accuracy: 0.8028\n",
      "Epoch 27/100\n",
      "4225/4225 [==============================] - 1s 126us/step - loss: 0.4272 - accuracy: 0.8043\n",
      "Epoch 28/100\n",
      "4225/4225 [==============================] - 1s 129us/step - loss: 0.4279 - accuracy: 0.8054\n",
      "Epoch 29/100\n",
      "4225/4225 [==============================] - 1s 141us/step - loss: 0.4269 - accuracy: 0.8069\n",
      "Epoch 30/100\n",
      "4225/4225 [==============================] - 1s 124us/step - loss: 0.4272 - accuracy: 0.8021\n",
      "Epoch 31/100\n",
      "4225/4225 [==============================] - 1s 128us/step - loss: 0.4268 - accuracy: 0.8021\n",
      "Epoch 32/100\n",
      "4225/4225 [==============================] - 1s 126us/step - loss: 0.4267 - accuracy: 0.8012\n",
      "Epoch 33/100\n",
      "4225/4225 [==============================] - 1s 129us/step - loss: 0.4267 - accuracy: 0.8050\n",
      "Epoch 34/100\n",
      "4225/4225 [==============================] - 1s 128us/step - loss: 0.4268 - accuracy: 0.8043\n",
      "Epoch 35/100\n",
      "4225/4225 [==============================] - 1s 140us/step - loss: 0.4262 - accuracy: 0.8024\n",
      "Epoch 36/100\n",
      "4225/4225 [==============================] - 1s 148us/step - loss: 0.4265 - accuracy: 0.8036\n",
      "Epoch 37/100\n",
      "4225/4225 [==============================] - 1s 128us/step - loss: 0.4267 - accuracy: 0.8050\n",
      "Epoch 38/100\n",
      "4225/4225 [==============================] - 1s 134us/step - loss: 0.4262 - accuracy: 0.8021\n",
      "Epoch 39/100\n",
      "4225/4225 [==============================] - 1s 125us/step - loss: 0.4253 - accuracy: 0.8038\n",
      "Epoch 40/100\n",
      "4225/4225 [==============================] - 1s 130us/step - loss: 0.4267 - accuracy: 0.8052\n",
      "Epoch 41/100\n",
      "4225/4225 [==============================] - 1s 135us/step - loss: 0.4250 - accuracy: 0.8021\n",
      "Epoch 42/100\n",
      "4225/4225 [==============================] - 1s 128us/step - loss: 0.4257 - accuracy: 0.8071\n",
      "Epoch 43/100\n",
      "4225/4225 [==============================] - 1s 128us/step - loss: 0.4248 - accuracy: 0.8033\n",
      "Epoch 44/100\n",
      "4225/4225 [==============================] - 1s 140us/step - loss: 0.4256 - accuracy: 0.8036\n",
      "Epoch 45/100\n",
      "4225/4225 [==============================] - 1s 133us/step - loss: 0.4250 - accuracy: 0.8005\n",
      "Epoch 46/100\n",
      "4225/4225 [==============================] - 1s 129us/step - loss: 0.4257 - accuracy: 0.8036\n",
      "Epoch 47/100\n",
      "4225/4225 [==============================] - 1s 167us/step - loss: 0.4249 - accuracy: 0.8026\n",
      "Epoch 48/100\n",
      "4225/4225 [==============================] - 1s 151us/step - loss: 0.4255 - accuracy: 0.8064\n",
      "Epoch 49/100\n",
      "4225/4225 [==============================] - 1s 136us/step - loss: 0.4255 - accuracy: 0.8028\n",
      "Epoch 50/100\n",
      "4225/4225 [==============================] - 1s 145us/step - loss: 0.4248 - accuracy: 0.8038\n",
      "Epoch 51/100\n",
      "4225/4225 [==============================] - 1s 148us/step - loss: 0.4246 - accuracy: 0.8040\n",
      "Epoch 52/100\n",
      "4225/4225 [==============================] - 1s 143us/step - loss: 0.4257 - accuracy: 0.8073\n",
      "Epoch 53/100\n",
      "4225/4225 [==============================] - 1s 166us/step - loss: 0.4245 - accuracy: 0.8064\n",
      "Epoch 54/100\n",
      "4225/4225 [==============================] - 1s 229us/step - loss: 0.4250 - accuracy: 0.8045\n",
      "Epoch 55/100\n",
      "4225/4225 [==============================] - 1s 181us/step - loss: 0.4247 - accuracy: 0.8038\n",
      "Epoch 56/100\n",
      "4225/4225 [==============================] - 1s 174us/step - loss: 0.4252 - accuracy: 0.8071\n",
      "Epoch 57/100\n",
      "4225/4225 [==============================] - 1s 199us/step - loss: 0.4253 - accuracy: 0.8057\n",
      "Epoch 58/100\n",
      "4225/4225 [==============================] - 1s 179us/step - loss: 0.4251 - accuracy: 0.8052\n",
      "Epoch 59/100\n",
      "4225/4225 [==============================] - 1s 218us/step - loss: 0.4248 - accuracy: 0.8043\n",
      "Epoch 60/100\n",
      "4225/4225 [==============================] - 1s 255us/step - loss: 0.4254 - accuracy: 0.8059\n",
      "Epoch 61/100\n",
      "4225/4225 [==============================] - 1s 187us/step - loss: 0.4249 - accuracy: 0.8057\n",
      "Epoch 62/100\n",
      "4225/4225 [==============================] - 1s 218us/step - loss: 0.4251 - accuracy: 0.8040\n",
      "Epoch 63/100\n",
      "4225/4225 [==============================] - 1s 204us/step - loss: 0.4252 - accuracy: 0.8038\n",
      "Epoch 64/100\n",
      "4225/4225 [==============================] - 1s 291us/step - loss: 0.4244 - accuracy: 0.8033\n",
      "Epoch 65/100\n",
      "4225/4225 [==============================] - 1s 290us/step - loss: 0.4245 - accuracy: 0.8040\n",
      "Epoch 66/100\n",
      "4225/4225 [==============================] - 1s 250us/step - loss: 0.4245 - accuracy: 0.8040\n",
      "Epoch 67/100\n",
      "4225/4225 [==============================] - 1s 203us/step - loss: 0.4246 - accuracy: 0.8064\n",
      "Epoch 68/100\n",
      "4225/4225 [==============================] - ETA: 0s - loss: 0.4240 - accuracy: 0.80 - 1s 200us/step - loss: 0.4241 - accuracy: 0.8064\n",
      "Epoch 69/100\n",
      "4225/4225 [==============================] - 1s 227us/step - loss: 0.4242 - accuracy: 0.8040\n",
      "Epoch 70/100\n",
      "4225/4225 [==============================] - 1s 208us/step - loss: 0.4244 - accuracy: 0.8052\n",
      "Epoch 71/100\n",
      "4225/4225 [==============================] - 1s 202us/step - loss: 0.4242 - accuracy: 0.8045\n",
      "Epoch 72/100\n",
      "4225/4225 [==============================] - 1s 190us/step - loss: 0.4238 - accuracy: 0.8052\n",
      "Epoch 73/100\n",
      "4225/4225 [==============================] - 1s 209us/step - loss: 0.4240 - accuracy: 0.8052\n",
      "Epoch 74/100\n",
      "4225/4225 [==============================] - 1s 251us/step - loss: 0.4239 - accuracy: 0.8019\n",
      "Epoch 75/100\n",
      "4225/4225 [==============================] - 1s 241us/step - loss: 0.4236 - accuracy: 0.8038\n"
     ]
    },
    {
     "name": "stdout",
     "output_type": "stream",
     "text": [
      "Epoch 76/100\n",
      "4225/4225 [==============================] - 1s 179us/step - loss: 0.4238 - accuracy: 0.8038\n",
      "Epoch 77/100\n",
      "4225/4225 [==============================] - 1s 191us/step - loss: 0.4236 - accuracy: 0.8080\n",
      "Epoch 78/100\n",
      "4225/4225 [==============================] - 1s 169us/step - loss: 0.4233 - accuracy: 0.8052\n",
      "Epoch 79/100\n",
      "4225/4225 [==============================] - 1s 182us/step - loss: 0.4236 - accuracy: 0.8043\n",
      "Epoch 80/100\n",
      "4225/4225 [==============================] - 1s 334us/step - loss: 0.4233 - accuracy: 0.8052\n",
      "Epoch 81/100\n",
      "4225/4225 [==============================] - 1s 177us/step - loss: 0.4230 - accuracy: 0.8080\n",
      "Epoch 82/100\n",
      "4225/4225 [==============================] - 1s 281us/step - loss: 0.4234 - accuracy: 0.8047\n",
      "Epoch 83/100\n",
      "4225/4225 [==============================] - 1s 254us/step - loss: 0.4232 - accuracy: 0.8071\n",
      "Epoch 84/100\n",
      "4225/4225 [==============================] - 1s 204us/step - loss: 0.4223 - accuracy: 0.8031\n",
      "Epoch 85/100\n",
      "4225/4225 [==============================] - 1s 215us/step - loss: 0.4238 - accuracy: 0.8036\n",
      "Epoch 86/100\n",
      "4225/4225 [==============================] - 1s 187us/step - loss: 0.4231 - accuracy: 0.8059\n",
      "Epoch 87/100\n",
      "4225/4225 [==============================] - 1s 196us/step - loss: 0.4225 - accuracy: 0.8059\n",
      "Epoch 88/100\n",
      "4225/4225 [==============================] - 1s 242us/step - loss: 0.4225 - accuracy: 0.8054\n",
      "Epoch 89/100\n",
      "4225/4225 [==============================] - 1s 210us/step - loss: 0.4220 - accuracy: 0.8090\n",
      "Epoch 90/100\n",
      "4225/4225 [==============================] - 1s 180us/step - loss: 0.4219 - accuracy: 0.8047\n",
      "Epoch 91/100\n",
      "4225/4225 [==============================] - 1s 206us/step - loss: 0.4221 - accuracy: 0.8059\n",
      "Epoch 92/100\n",
      "4225/4225 [==============================] - 1s 242us/step - loss: 0.4218 - accuracy: 0.8069\n",
      "Epoch 93/100\n",
      "4225/4225 [==============================] - 1s 195us/step - loss: 0.4221 - accuracy: 0.8062\n",
      "Epoch 94/100\n",
      "4225/4225 [==============================] - 1s 221us/step - loss: 0.4218 - accuracy: 0.8050\n",
      "Epoch 95/100\n",
      "4225/4225 [==============================] - 1s 202us/step - loss: 0.4219 - accuracy: 0.8066\n",
      "Epoch 96/100\n",
      "4225/4225 [==============================] - 1s 189us/step - loss: 0.4214 - accuracy: 0.8069\n",
      "Epoch 97/100\n",
      "4225/4225 [==============================] - 1s 248us/step - loss: 0.4220 - accuracy: 0.8066\n",
      "Epoch 98/100\n",
      "4225/4225 [==============================] - 1s 247us/step - loss: 0.4219 - accuracy: 0.8088\n",
      "Epoch 99/100\n",
      "4225/4225 [==============================] - 1s 247us/step - loss: 0.4208 - accuracy: 0.8038\n",
      "Epoch 100/100\n",
      "4225/4225 [==============================] - 1s 184us/step - loss: 0.4212 - accuracy: 0.8083\n"
     ]
    }
   ],
   "source": [
    "model = classifier.fit(trainx, trainy, batch_size = 10, nb_epoch = 100)"
   ]
  },
  {
   "cell_type": "code",
   "execution_count": 35,
   "metadata": {},
   "outputs": [
    {
     "name": "stdout",
     "output_type": "stream",
     "text": [
      "[[1873  225]\n",
      " [ 331  389]]\n",
      "              precision    recall  f1-score   support\n",
      "\n",
      "         0.0       0.85      0.89      0.87      2098\n",
      "         1.0       0.63      0.54      0.58       720\n",
      "\n",
      "    accuracy                           0.80      2818\n",
      "   macro avg       0.74      0.72      0.73      2818\n",
      "weighted avg       0.79      0.80      0.80      2818\n",
      "\n",
      "0.8026969481902059\n"
     ]
    }
   ],
   "source": [
    "y_pred = classifier.predict(validx)\n",
    "y_pred = (y_pred > 0.5)\n",
    "print(confusion_matrix(validy, y_pred))\n",
    "print(classification_report(validy, y_pred))\n",
    "print(accuracy_score(validy, y_pred))"
   ]
  },
  {
   "cell_type": "markdown",
   "metadata": {},
   "source": [
    "Conclusion\n",
    "\n",
    "When a customer leaves, how often does the classifier predict that correctly? -> “Recall” and a quick look at these diagrams can demonstrate that SVM is best for this criteria with 79%\n",
    "\n",
    "When a classifier predicts a customer will leave, how often does that customer actually leave? -> “Precision” of Logistic Regression with 64%\n",
    "\n",
    "F1-score of Logistic Regression with 79%\n",
    "\n",
    "Some important things about the features:\n",
    "\n",
    "-tenure, Contract, PaymentMethod, MonthlyCharges play a role in customer churn. -Customers use electronic check; on a month-to-month contract; within 12 months tenure, are more likely to churn. -On the other hand, customers with one or two year contract; longer than 12 months tenure are less likely to churn."
   ]
  }
 ],
 "metadata": {
  "kernelspec": {
   "display_name": "Python 3",
   "language": "python",
   "name": "python3"
  },
  "language_info": {
   "codemirror_mode": {
    "name": "ipython",
    "version": 3
   },
   "file_extension": ".py",
   "mimetype": "text/x-python",
   "name": "python",
   "nbconvert_exporter": "python",
   "pygments_lexer": "ipython3",
   "version": "3.7.6"
  }
 },
 "nbformat": 4,
 "nbformat_minor": 2
}
